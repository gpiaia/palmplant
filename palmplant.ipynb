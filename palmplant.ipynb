{
 "cells": [
  {
   "cell_type": "code",
   "execution_count": 1,
   "metadata": {},
   "outputs": [],
   "source": [
    "import numpy as np\n",
    "import matplotlib.pyplot as plt\n",
    "%matplotlib inline  \n",
    "from scipy.integrate import odeint\n",
    "import paho.mqtt.client as mqtt #import the client1\n",
    "import time"
   ]
  },
  {
   "cell_type": "code",
   "execution_count": 2,
   "metadata": {},
   "outputs": [],
   "source": [
    "def f(y, t, params):\n",
    "    theta, omega = y      # unpack current values of y\n",
    "    Q, d, Omega = params  # unpack parameters\n",
    "    derivs = [omega,      # list of dy/dt=f functions\n",
    "             -omega/Q + np.sin(theta) + d*np.cos(Omega*t)]\n",
    "    return derivs\n",
    "\n",
    "def solver():\n",
    "    # Parameters\n",
    "    Q = 2.0          # quality factor (inverse damping)\n",
    "    d = 1.5          # forcing amplitude\n",
    "    Omega = 0.65     # drive frequency\n",
    "\n",
    "    # Initial values\n",
    "    theta0 = 0.0     # initial angular displacement\n",
    "    omega0 = 0.0     # initial angular velocity\n",
    "\n",
    "    # Bundle parameters for ODE solver\n",
    "    params = [Q, d, Omega]\n",
    "\n",
    "    # Bundle initial conditions for ODE solver\n",
    "    y0 = [theta0, omega0]\n",
    "\n",
    "    # Make time array for solution\n",
    "    tStop = 200.\n",
    "    tInc = 0.05\n",
    "    t = np.arange(0., tStop, tInc)\n",
    "\n",
    "    # Call the ODE solver\n",
    "    #psoln = odeint(f, y0, t, args=(params,))\n",
    "    psoln = []\n",
    "    cnt = 0\n",
    "    \n",
    "    print(len(t))\n",
    "    for x in range(len(t)-1):\n",
    "        y = odeint(f, y0, [t[x], t[x+1]], args=(params,))\n",
    "        y0 = y[1]\n",
    "        np.append (psoln, y)\n",
    "        cnt = cnt + 1\n",
    "        \n",
    "        if(cnt>= 5):\n",
    "            client.publish(\"output\",y[0,0])\n",
    "            cnt = 0;\n",
    "        \n",
    "        for k in range(20000):\n",
    "            a = k + 1"
   ]
  },
  {
   "cell_type": "code",
   "execution_count": 3,
   "metadata": {},
   "outputs": [
    {
     "data": {
      "text/plain": [
       "(0, 1)"
      ]
     },
     "execution_count": 3,
     "metadata": {},
     "output_type": "execute_result"
    },
    {
     "name": "stdout",
     "output_type": "stream",
     "text": [
      "inicio\n",
      "4000\n",
      "fim\n"
     ]
    }
   ],
   "source": [
    "modelo_str = ''\n",
    "\n",
    "def on_message(client, userdata, message):\n",
    "    modelo_str = str(message.payload.decode(\"utf-8\"))\n",
    "    print('inicio')\n",
    "    solver()\n",
    "    print('fim')\n",
    "\n",
    "broker_address=\"127.0.0.1\"\n",
    "\n",
    "client = mqtt.Client(\"P1\") #create new instance\n",
    "\n",
    "client.on_message=on_message #attach function to callback\n",
    "\n",
    "client.connect(broker_address) #connect to broker\n",
    "\n",
    "client.loop_start() #start the loop\n",
    "\n",
    "client.subscribe(\"modelo/#\")\n",
    "#client.publish(\"modelo\",2)\n",
    "#time.sleep(20) # wait\n",
    "#client.loop_stop() #stop the loop"
   ]
  }
 ],
 "metadata": {
  "kernelspec": {
   "display_name": "Python 3",
   "language": "python",
   "name": "python3"
  },
  "language_info": {
   "codemirror_mode": {
    "name": "ipython",
    "version": 3
   },
   "file_extension": ".py",
   "mimetype": "text/x-python",
   "name": "python",
   "nbconvert_exporter": "python",
   "pygments_lexer": "ipython3",
   "version": "3.7.0"
  }
 },
 "nbformat": 4,
 "nbformat_minor": 2
}
