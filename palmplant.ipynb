{
 "cells": [
  {
   "cell_type": "code",
   "execution_count": 1,
   "metadata": {},
   "outputs": [],
   "source": [
    "import numpy as np\n",
    "from scipy.integrate import odeint\n",
    "import paho.mqtt.client as mqtt\n",
    "import time\n",
    "import socket"
   ]
  },
  {
   "cell_type": "code",
   "execution_count": 2,
   "metadata": {},
   "outputs": [],
   "source": [
    "def create_file_model():\n",
    "    f= open(\"Model.py\",\"w+\")\n",
    "    \n",
    "    user_model = (\"        Q = 2.0  \\r\" +\n",
    "                  \"        d = 1.5  \\r\" +\n",
    "                  \"        Omega = 0.65 \\r\" +\n",
    "                  \"        theta, omega = y  \\r\" + \n",
    "                  \"        derivs = [omega,\\r\" +\n",
    "                  \"                 -omega/Q + np.sin(theta) + d*np.cos(Omega*t)]\\r\" +\n",
    "                  \"        return derivs\")\n",
    "    \n",
    "    model = (\"import numpy as np \\r\\n\" +\n",
    "             \"class model:\\r\"\n",
    "             \"    def __init__(self):\\r\" +\n",
    "             \"        print('Init model')\\r\\n\" +\n",
    "             \"    def function(y, t): \\r\") + user_model\n",
    "    \n",
    "    f.write(model)\n",
    "    return  [1, 2]\n",
    "\n",
    "\n",
    "def solver():\n",
    "    # Initial values\n",
    "    theta0 = 0.0     # initial angular displacement\n",
    "    omega0 = 0.0     # initial angular velocity\n",
    "    \n",
    "    # Bundle initial conditions for ODE solver\n",
    "    \n",
    "    y0 = [theta0, omega0]\n",
    "    # Make time array for solution\n",
    "    tStop = 200.\n",
    "    tInc = 0.05\n",
    "    t = np.arange(0., tStop, tInc)\n",
    "    \n",
    "    cnt = 0\n",
    "\n",
    "    s = socket.socket(socket.AF_INET, socket.SOCK_STREAM)\n",
    "    print ('Socket created')\n",
    "\n",
    "    s.connect((HOST, PORT))\n",
    "\n",
    "    print('Points numbers: ' + str(len(t)))\n",
    "    \n",
    "    from Model import model\n",
    "    \n",
    "    print ('Model has been imported')\n",
    "    \n",
    "    for x in range(len(t)-1):\n",
    "        y = odeint(model.function, y0, [t[x], t[x+1]])\n",
    "        y0 = y[1]\n",
    "        cnt = cnt + 1\n",
    "    \n",
    "        if(cnt>= 10 ):\n",
    "            s.send(y[0,0])\n",
    "            cnt = 0;\n",
    "        for i in range(100000):\n",
    "            a = i\n",
    "            \n",
    "    s.close()\n",
    "    print ('Socket closed')"
   ]
  },
  {
   "cell_type": "code",
   "execution_count": null,
   "metadata": {},
   "outputs": [
    {
     "name": "stdout",
     "output_type": "stream",
     "text": [
      "Running\n",
      "Creating model... omega$-omega/Q + np.sin(theta) + d*np.cos(Omega*t)$Q = 10, d = 5, Omega = 1$tau = 0, omega = 0, t = 0\n",
      "Started a solution\n",
      "Socket created\n",
      "Points numbers: 4000\n",
      "Model has been imported\n",
      "Socket closed\n",
      "Solution complete\n"
     ]
    }
   ],
   "source": [
    "def on_message(client, userdata, message):\n",
    "    global model_str \n",
    "    model_str = str(message.payload.decode(\"utf-8\"))\n",
    "    print ('Creating model... ' + model_str)\n",
    "    create_file_model()\n",
    "    print('Started a solution')\n",
    "    solver()\n",
    "    print('Solution complete')\n",
    "\n",
    "broker_address=\"10.0.0.101\"\n",
    "client = mqtt.Client(\"P1\") #create new instance\n",
    "client.on_message=on_message #attach function to callback\n",
    "client.connect(broker_address) #connect to broker\n",
    "client.loop_start() #start the loop\n",
    "client.subscribe(\"modelo/#\")\n",
    "\n",
    "# Configs for tcp socket\n",
    "HOST = '10.0.0.101' # Symbolic name, meaning all available interfaces\n",
    "PORT = 8888 #Arbitrary non-privileged port\n",
    "model_str = \"\"\n",
    "\n",
    "print(\"Running\")\n",
    "\n",
    "while True:\n",
    "    time.sleep(1)"
   ]
  },
  {
   "cell_type": "code",
   "execution_count": null,
   "metadata": {},
   "outputs": [],
   "source": []
  }
 ],
 "metadata": {
  "kernelspec": {
   "display_name": "Python 3",
   "language": "python",
   "name": "python3"
  },
  "language_info": {
   "codemirror_mode": {
    "name": "ipython",
    "version": 3
   },
   "file_extension": ".py",
   "mimetype": "text/x-python",
   "name": "python",
   "nbconvert_exporter": "python",
   "pygments_lexer": "ipython3",
   "version": "3.7.0"
  }
 },
 "nbformat": 4,
 "nbformat_minor": 2
}
